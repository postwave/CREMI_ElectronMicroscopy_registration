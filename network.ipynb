{
 "cells": [
  {
   "cell_type": "code",
   "execution_count": 10,
   "metadata": {},
   "outputs": [],
   "source": [
    "from model import trainfunc\n",
    "import torch\n",
    "import torch.utils"
   ]
  },
  {
   "cell_type": "code",
   "execution_count": 11,
   "metadata": {},
   "outputs": [],
   "source": [
    "device = torch.device('cuda') if torch.cuda.is_available()\\\n",
    "                              else torch.device('cpu')"
   ]
  },
  {
   "cell_type": "code",
   "execution_count": 12,
   "metadata": {},
   "outputs": [],
   "source": [
    "x = torch.randn((320, 1, 3, 256, 256))\n",
    "y = torch.randn((320, 1, 1, 256, 256))"
   ]
  },
  {
   "cell_type": "code",
   "execution_count": 13,
   "metadata": {},
   "outputs": [],
   "source": [
    "dataset = torch.utils.data.TensorDataset(x, y)\n",
    "dataloader = torch.utils.data.DataLoader(dataset, batch_size = 32)"
   ]
  },
  {
   "cell_type": "markdown",
   "metadata": {},
   "source": [
    "*torch.nn.Conv3d(in_channels, out_channels, kernel_size, stride=1, padding=0, dilation=1, groups=1, bias=True, padding_mode='zeros')*"
   ]
  },
  {
   "cell_type": "code",
   "execution_count": 14,
   "metadata": {},
   "outputs": [],
   "source": [
    "class toynet(torch.nn.Module):\n",
    "    def __init__(self):\n",
    "        super().__init__()\n",
    "        self.act = torch.nn.LeakyReLU(0.1, inplace = True)\n",
    "        self.down1 = torch.nn.Conv3d(1, 32, kernel_size = (3,2,2), padding = (1,0,0), stride=(1,2,2)) # 3， 512， 512\n",
    "        self.down2 = torch.nn.Conv3d(32, 64, kernel_size = (3,2,2), padding = (1,0,0), stride=(1,2,2)) # 3， 256, 256\n",
    "        self.down3 = torch.nn.Conv3d(64, 128, kernel_size = (3,2,2), padding = (1,0,0), stride=(1,2,2)) # 3， 128, 128\n",
    "        self.down4 = torch.nn.Conv3d(128, 256, kernel_size = (3,2,2), padding = (1,0,0), stride=(1,2,2)) # 3， 64, 64\n",
    "        self.down5 = torch.nn.Conv3d(256, 256, kernel_size = (3,2,2), padding = (1,0,0), stride=(1,2,2)) # 3， 32, 32\n",
    "        \n",
    "        self.down6 = torch.nn.Conv3d(256, 512, kernel_size = (3,2,2), padding = (1,0,0), stride=(1,2,2)) # 3, 16, 16\n",
    "        \n",
    "        self.up5 = torch.nn.ConvTranspose3d(512, 256, kernel_size = (3,2,2), padding = (1,0,0), stride=(1,2,2)) # 3, 32, 32\n",
    "        self.up4 = torch.nn.ConvTranspose3d(256+256, 128, kernel_size = (3,2,2), padding = (1,0,0), stride=(1,2,2)) # 3, 64, 64\n",
    "        self.up3 = torch.nn.ConvTranspose3d(128+256, 64, kernel_size = (3,2,2), padding = (1,0,0), stride=(1,2,2)) # 3, 128, 128\n",
    "        self.up2 = torch.nn.ConvTranspose3d(64+128, 32, kernel_size = (3,2,2), padding = (1,0,0), stride=(1,2,2)) # 3, 256, 256\n",
    "        self.up1 = torch.nn.ConvTranspose3d(32+64, 16, kernel_size = (3,2,2), padding = (1,0,0), stride=(1,2,2)) # 3, 512, 512\n",
    "        self.up0 = torch.nn.ConvTranspose3d(16+32, 8, kernel_size = (3,2,2), padding = (1,0,0), stride=(1,2,2)) # 3, 1024, 1024\n",
    "        \n",
    "        self.final = torch.nn.Conv3d(8+1, 1, kernel_size = 3, padding = (0, 1, 1)) # 1, 1024, 1024\n",
    "    def forward(self, x):\n",
    "#         assert(x.shape[-2:]==(1024,1024))\n",
    "        x0 = x.detach().clone() # 1, 3, 1024, 1024\n",
    "        \n",
    "        xdown1 = self.down1(x0) # 32, 3, 512, 512\n",
    "        xdown1 = self.act(xdown1)\n",
    "        \n",
    "        xdown2 = self.down2(xdown1) # 64, 3, 256, 256\n",
    "        xdown2 = self.act(xdown2)\n",
    "        \n",
    "        xdown3 = self.down3(xdown2) # 128, 3, 128, 128\n",
    "        xdown3 = self.act(xdown3)\n",
    "        \n",
    "        xdown4 = self.down4(xdown3) # 256, 3, 64, 64\n",
    "        xdown4 = self.act(xdown4)\n",
    "        \n",
    "        xdown5 = self.down5(xdown4) # 256, 3, 32, 32\n",
    "        xdown5 = self.act(xdown5)\n",
    "        \n",
    "        xdown6 = self.down6(xdown5) # 512, 3, 16, 16\n",
    "        xdown6 = self.act(xdown6)\n",
    "        \n",
    "        xup5 = self.up5(xdown6)\n",
    "        xup5 = self.act(xup5)\n",
    "        xup5 = torch.cat((xup5,xdown5),1) # pos 1 is channel\n",
    "        \n",
    "        \n",
    "        xup4 = self.up4(xup5)\n",
    "        xup4 = self.act(xup4)\n",
    "        xup4 = torch.cat((xup4,xdown4),1)\n",
    "        \n",
    "        \n",
    "        xup3 = self.up3(xup4)\n",
    "        xup3 = self.act(xup3)\n",
    "        xup3 = torch.cat((xup3,xdown3),1)\n",
    "        \n",
    "        \n",
    "        xup2 = self.up2(xup3)\n",
    "        xup2 = self.act(xup2)\n",
    "        xup2 = torch.cat((xup2,xdown2),1)\n",
    "        \n",
    "        xup1 = self.up1(xup2)\n",
    "        xup1 = self.act(xup1)\n",
    "        xup1 = torch.cat((xup1,xdown1),1)\n",
    "        \n",
    "        xup0 = self.up0(xup1)\n",
    "        xup0 = self.act(xup0)\n",
    "        xup0 = torch.cat((xup0,x0),1)\n",
    "        \n",
    "        x = self.final(xup0)\n",
    "        del x0,xdown1,xdown2,xdown3,xdown5,xdown6\n",
    "        del xup0,xup1,xup2,xup3,xup4,xup5\n",
    "#         print(torch.cuda.memory_allocated()//(1024 * 1024))\n",
    "        return x"
   ]
  },
  {
   "cell_type": "code",
   "execution_count": 15,
   "metadata": {},
   "outputs": [],
   "source": [
    "model = toynet().to(device)"
   ]
  },
  {
   "cell_type": "code",
   "execution_count": 16,
   "metadata": {},
   "outputs": [
    {
     "name": "stdout",
     "output_type": "stream",
     "text": [
      "----------------------------------------------------------------\n",
      "        Layer (type)               Output Shape         Param #\n",
      "================================================================\n",
      "            Conv3d-1      [-1, 32, 3, 128, 128]             416\n",
      "         LeakyReLU-2      [-1, 32, 3, 128, 128]               0\n",
      "            Conv3d-3        [-1, 64, 3, 64, 64]          24,640\n",
      "         LeakyReLU-4        [-1, 64, 3, 64, 64]               0\n",
      "            Conv3d-5       [-1, 128, 3, 32, 32]          98,432\n",
      "         LeakyReLU-6       [-1, 128, 3, 32, 32]               0\n",
      "            Conv3d-7       [-1, 256, 3, 16, 16]         393,472\n",
      "         LeakyReLU-8       [-1, 256, 3, 16, 16]               0\n",
      "            Conv3d-9         [-1, 256, 3, 8, 8]         786,688\n",
      "        LeakyReLU-10         [-1, 256, 3, 8, 8]               0\n",
      "           Conv3d-11         [-1, 512, 3, 4, 4]       1,573,376\n",
      "        LeakyReLU-12         [-1, 512, 3, 4, 4]               0\n",
      "  ConvTranspose3d-13         [-1, 256, 3, 8, 8]       1,573,120\n",
      "        LeakyReLU-14         [-1, 256, 3, 8, 8]               0\n",
      "  ConvTranspose3d-15       [-1, 128, 3, 16, 16]         786,560\n",
      "        LeakyReLU-16       [-1, 128, 3, 16, 16]               0\n",
      "  ConvTranspose3d-17        [-1, 64, 3, 32, 32]         294,976\n",
      "        LeakyReLU-18        [-1, 64, 3, 32, 32]               0\n",
      "  ConvTranspose3d-19        [-1, 32, 3, 64, 64]          73,760\n",
      "        LeakyReLU-20        [-1, 32, 3, 64, 64]               0\n",
      "  ConvTranspose3d-21      [-1, 16, 3, 128, 128]          18,448\n",
      "        LeakyReLU-22      [-1, 16, 3, 128, 128]               0\n",
      "  ConvTranspose3d-23       [-1, 8, 3, 256, 256]           4,616\n",
      "        LeakyReLU-24       [-1, 8, 3, 256, 256]               0\n",
      "           Conv3d-25       [-1, 1, 1, 256, 256]             244\n",
      "================================================================\n",
      "Total params: 5,628,748\n",
      "Trainable params: 5,628,748\n",
      "Non-trainable params: 0\n",
      "----------------------------------------------------------------\n",
      "Input size (MB): 0.75\n",
      "Forward/backward pass size (MB): 93.88\n",
      "Params size (MB): 21.47\n",
      "Estimated Total Size (MB): 116.10\n",
      "----------------------------------------------------------------\n"
     ]
    }
   ],
   "source": [
    "import torchsummary\n",
    "torchsummary.summary(model,(1,3,256,256))"
   ]
  },
  {
   "cell_type": "code",
   "execution_count": 17,
   "metadata": {},
   "outputs": [
    {
     "name": "stdout",
     "output_type": "stream",
     "text": [
      "torch.Size([32, 1, 3, 256, 256])\n",
      "torch.Size([32, 1, 1, 256, 256])\n",
      "torch.Size([32, 1, 3, 256, 256])\n",
      "torch.Size([32, 1, 1, 256, 256])\n",
      "torch.Size([32, 1, 3, 256, 256])\n",
      "torch.Size([32, 1, 1, 256, 256])\n",
      "torch.Size([32, 1, 3, 256, 256])\n",
      "torch.Size([32, 1, 1, 256, 256])\n",
      "torch.Size([32, 1, 3, 256, 256])\n",
      "torch.Size([32, 1, 1, 256, 256])\n",
      "torch.Size([32, 1, 3, 256, 256])\n",
      "torch.Size([32, 1, 1, 256, 256])\n",
      "torch.Size([32, 1, 3, 256, 256])\n",
      "torch.Size([32, 1, 1, 256, 256])\n",
      "torch.Size([32, 1, 3, 256, 256])\n",
      "torch.Size([32, 1, 1, 256, 256])\n",
      "torch.Size([32, 1, 3, 256, 256])\n",
      "torch.Size([32, 1, 1, 256, 256])\n",
      "torch.Size([32, 1, 3, 256, 256])\n",
      "torch.Size([32, 1, 1, 256, 256])\n"
     ]
    }
   ],
   "source": [
    "for x, _ in dataloader:\n",
    "    print(x.shape)\n",
    "    x = x.to(device)\n",
    "    print(model(x).shape)"
   ]
  },
  {
   "cell_type": "code",
   "execution_count": null,
   "metadata": {},
   "outputs": [],
   "source": []
  }
 ],
 "metadata": {
  "kernelspec": {
   "display_name": "Python 3",
   "language": "python",
   "name": "python3"
  },
  "language_info": {
   "codemirror_mode": {
    "name": "ipython",
    "version": 3
   },
   "file_extension": ".py",
   "mimetype": "text/x-python",
   "name": "python",
   "nbconvert_exporter": "python",
   "pygments_lexer": "ipython3",
   "version": "3.7.7"
  }
 },
 "nbformat": 4,
 "nbformat_minor": 4
}
